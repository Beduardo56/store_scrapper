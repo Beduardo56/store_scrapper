{
 "cells": [
  {
   "cell_type": "code",
   "execution_count": 1,
   "id": "0891d3f9",
   "metadata": {},
   "outputs": [],
   "source": [
    "from selenium import webdriver"
   ]
  },
  {
   "cell_type": "code",
   "execution_count": 2,
   "id": "4ed5084a",
   "metadata": {},
   "outputs": [],
   "source": [
    "from time import sleep"
   ]
  },
  {
   "cell_type": "code",
   "execution_count": 3,
   "id": "b6c03c8d",
   "metadata": {},
   "outputs": [],
   "source": [
    "import pandas as pd"
   ]
  },
  {
   "cell_type": "code",
   "execution_count": 21,
   "id": "10f3df99",
   "metadata": {},
   "outputs": [],
   "source": [
    "store_data.to_csv('dados_loja.csv')"
   ]
  },
  {
   "cell_type": "code",
   "execution_count": 22,
   "id": "02e0a0b9",
   "metadata": {},
   "outputs": [],
   "source": [
    "store_data = pd.read_csv('dados_loja.csv')"
   ]
  },
  {
   "cell_type": "code",
   "execution_count": 4,
   "id": "6b1b5efa",
   "metadata": {},
   "outputs": [],
   "source": [
    "browser = webdriver.Chrome('store_scrapper/chromedriver')"
   ]
  },
  {
   "cell_type": "code",
   "execution_count": 24,
   "id": "7e6e7bf9",
   "metadata": {},
   "outputs": [],
   "source": [
    "hour_data = pd.DataFrame()\n",
    "for index in store_data.index:\n",
    "    nome = store_data.at[index, 'nome']\n",
    "    shopping = store_data.at[index, 'shopping']\n",
    "    shopping = shopping.replace(\" \", \"+\")\n",
    "    search_name = nome.lower() + \"+\" + shopping\n",
    "    browser.get(f'https://www.google.com/search?channel=fs&client=ubuntu&q={search_name}')\n",
    "    try:\n",
    "        browser.find_element_by_xpath(\"//*[@id='kp-wp-tab-overview']/div[1]/div/div/div/div/div[7]/div/div/div[1]/div[1]/span/span/span/span\").click()\n",
    "        element = browser.find_element_by_xpath(\"//*[@id='kp-wp-tab-overview']/div[1]/div/div/div/div/div[7]/div/div\")\n",
    "        hour_data_store = pd.read_html(element.get_attribute('innerHTML'))[0]\n",
    "        hour_data_store.rename({0: 'dia da semana', 1: 'periodo de funcionamento'}, axis=1, inplace=True)\n",
    "        hour_data_store['store_id'] = index\n",
    "        hour_data = pd.concat([hour_data, hour_data_store])\n",
    "        time.sleep(0.2)\n",
    "    except Exception: \n",
    "        pass"
   ]
  },
  {
   "cell_type": "code",
   "execution_count": 29,
   "id": "0bbca7b6",
   "metadata": {},
   "outputs": [],
   "source": [
    "hour_data.rename(columns={0: 'dia da semana', 1: 'periodo de funcionamento'}, inplace=True)"
   ]
  },
  {
   "cell_type": "code",
   "execution_count": 30,
   "id": "e50128f2",
   "metadata": {},
   "outputs": [],
   "source": [
    "hour_data.to_csv('horario_de_funcionamento.csv')"
   ]
  },
  {
   "cell_type": "code",
   "execution_count": null,
   "id": "080234bb",
   "metadata": {},
   "outputs": [],
   "source": []
  }
 ],
 "metadata": {
  "kernelspec": {
   "display_name": "Python 3 (ipykernel)",
   "language": "python",
   "name": "python3"
  },
  "language_info": {
   "codemirror_mode": {
    "name": "ipython",
    "version": 3
   },
   "file_extension": ".py",
   "mimetype": "text/x-python",
   "name": "python",
   "nbconvert_exporter": "python",
   "pygments_lexer": "ipython3",
   "version": "3.7.9"
  }
 },
 "nbformat": 4,
 "nbformat_minor": 5
}
